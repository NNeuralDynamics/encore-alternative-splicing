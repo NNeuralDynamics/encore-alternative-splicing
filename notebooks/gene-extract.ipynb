{
 "cells": [
  {
   "cell_type": "code",
   "execution_count": 1,
   "id": "64bef5ca-a07b-417f-948d-c8154e83538d",
   "metadata": {},
   "outputs": [],
   "source": [
    "import pandas as pd\n",
    "from pandas import DataFrame\n",
    "import glob\n",
    "import os"
   ]
  },
  {
   "cell_type": "code",
   "execution_count": 16,
   "id": "68cf6ff5-f5e1-4bbc-9ffd-1fbc98944fcb",
   "metadata": {},
   "outputs": [],
   "source": [
    "def get_all_splice(ensg):\n",
    "    ''' a function to load the rMATS data from the ../data directory and extract the specified gene\n",
    "        argument:\n",
    "            ensg: the Ensembl ID for the gene\n",
    "        returns:\n",
    "            df_as: a dictionary of datasets pertaining to the gene specified. Schema:\n",
    "            { cell_line:\n",
    "                rbp:\n",
    "                    splice_type: dataframe containing the extracted alternative splicing data\n",
    "            }\n",
    "    ''' \n",
    "    rbp_list = dict()\n",
    "\n",
    "    for cl in ['HepG2', 'K562']:\n",
    "        rbp_list[cl] = dict()\n",
    "        for elem in glob.glob('../data/rMATS/*'+cl):\n",
    "            rbp_list[cl][elem.split('/')[-1].split('-')[0]] = elem.split('/')[-1]\n",
    "\n",
    "    df_as = dict()\n",
    "    for cl in ['HepG2', 'K562']:\n",
    "        df_as[cl] = dict()\n",
    "        for rbp, path in rbp_list[cl].items():\n",
    "            df_as[cl][rbp] = dict()\n",
    "            for spl in ['SE', 'MXE', 'A5SS', 'A3SS', 'RI']:\n",
    "                df = pd.read_csv('../data/rMATS/'+path+'/'+spl+'.MATS.JC.txt', sep='\\t')\n",
    "                df = df[df.GeneID.str.contains(ensg)]\n",
    "                df['cell_line'] = cl\n",
    "                df['RBP'] = rbp\n",
    "                df['alt_splice_type'] = spl\n",
    "                if not df.empty: df_as[cl][rbp][spl] = df\n",
    "    return df_as\n",
    "\n",
    "def save_data(df_dict):\n",
    "    ''' a function to save the data extracted to the ../output folder\n",
    "        argument:\n",
    "            df_dict: the dictionary of data frame passed by the get_all_splice function\n",
    "    '''\n",
    "    df_list = dict()\n",
    "    for spl in ['SE', 'MXE', 'A5SS', 'A3SS', 'RI']: df_list[spl] = list()\n",
    "    df_all = dict()\n",
    "    for key0, value0 in df_dict.items():\n",
    "        for key1, value1 in value0.items():\n",
    "            for key2, value2 in value1.items():\n",
    "                df_list[key2].append(value2)\n",
    "    for spl in ['SE', 'MXE', 'A5SS', 'A3SS', 'RI']: \n",
    "        if len(df_list[spl]) != 0: df_all[spl] = pd.concat(df_list[spl]) \n",
    "\n",
    "    os.makedirs('../output/'+gene, exist_ok=True)\n",
    "    for key, value in df_all.items():\n",
    "        value.reset_index(drop=True).to_csv('../output/'+gene+'/'+gene+'_'+key+'.csv', index=True)"
   ]
  },
  {
   "cell_type": "code",
   "execution_count": 17,
   "id": "8c80baf2-7c89-4475-b285-cad207249afa",
   "metadata": {},
   "outputs": [
    {
     "ename": "AttributeError",
     "evalue": "'DataFrame' object has no attribute 'reste_index'",
     "output_type": "error",
     "traceback": [
      "\u001b[0;31m---------------------------------------------------------------------------\u001b[0m",
      "\u001b[0;31mAttributeError\u001b[0m                            Traceback (most recent call last)",
      "Cell \u001b[0;32mIn[17], line 3\u001b[0m\n\u001b[1;32m      1\u001b[0m gene \u001b[38;5;241m=\u001b[39m \u001b[38;5;124m'\u001b[39m\u001b[38;5;124mENSG00000090621\u001b[39m\u001b[38;5;124m'\u001b[39m\n\u001b[1;32m      2\u001b[0m all_splice \u001b[38;5;241m=\u001b[39m get_all_splice(gene)\n\u001b[0;32m----> 3\u001b[0m \u001b[43msave_data\u001b[49m\u001b[43m(\u001b[49m\u001b[43mall_splice\u001b[49m\u001b[43m)\u001b[49m\n",
      "Cell \u001b[0;32mIn[16], line 50\u001b[0m, in \u001b[0;36msave_data\u001b[0;34m(df_dict)\u001b[0m\n\u001b[1;32m     48\u001b[0m os\u001b[38;5;241m.\u001b[39mmakedirs(\u001b[38;5;124m'\u001b[39m\u001b[38;5;124m../output/\u001b[39m\u001b[38;5;124m'\u001b[39m\u001b[38;5;241m+\u001b[39mgene, exist_ok\u001b[38;5;241m=\u001b[39m\u001b[38;5;28;01mTrue\u001b[39;00m)\n\u001b[1;32m     49\u001b[0m \u001b[38;5;28;01mfor\u001b[39;00m key, value \u001b[38;5;129;01min\u001b[39;00m df_all\u001b[38;5;241m.\u001b[39mitems():\n\u001b[0;32m---> 50\u001b[0m     \u001b[43mvalue\u001b[49m\u001b[38;5;241;43m.\u001b[39;49m\u001b[43mreste_index\u001b[49m(drop\u001b[38;5;241m=\u001b[39m\u001b[38;5;28;01mTrue\u001b[39;00m)\u001b[38;5;241m.\u001b[39mto_csv(\u001b[38;5;124m'\u001b[39m\u001b[38;5;124m../output/\u001b[39m\u001b[38;5;124m'\u001b[39m\u001b[38;5;241m+\u001b[39mgene\u001b[38;5;241m+\u001b[39m\u001b[38;5;124m'\u001b[39m\u001b[38;5;124m/\u001b[39m\u001b[38;5;124m'\u001b[39m\u001b[38;5;241m+\u001b[39mgene\u001b[38;5;241m+\u001b[39m\u001b[38;5;124m'\u001b[39m\u001b[38;5;124m_\u001b[39m\u001b[38;5;124m'\u001b[39m\u001b[38;5;241m+\u001b[39mkey\u001b[38;5;241m+\u001b[39m\u001b[38;5;124m'\u001b[39m\u001b[38;5;124m.csv\u001b[39m\u001b[38;5;124m'\u001b[39m, index\u001b[38;5;241m=\u001b[39m\u001b[38;5;28;01mTrue\u001b[39;00m)\n",
      "File \u001b[0;32m~/.local/share/jupyter/.venv/lib64/python3.9/site-packages/pandas/core/generic.py:6204\u001b[0m, in \u001b[0;36mNDFrame.__getattr__\u001b[0;34m(self, name)\u001b[0m\n\u001b[1;32m   6197\u001b[0m \u001b[38;5;28;01mif\u001b[39;00m (\n\u001b[1;32m   6198\u001b[0m     name \u001b[38;5;129;01mnot\u001b[39;00m \u001b[38;5;129;01min\u001b[39;00m \u001b[38;5;28mself\u001b[39m\u001b[38;5;241m.\u001b[39m_internal_names_set\n\u001b[1;32m   6199\u001b[0m     \u001b[38;5;129;01mand\u001b[39;00m name \u001b[38;5;129;01mnot\u001b[39;00m \u001b[38;5;129;01min\u001b[39;00m \u001b[38;5;28mself\u001b[39m\u001b[38;5;241m.\u001b[39m_metadata\n\u001b[1;32m   6200\u001b[0m     \u001b[38;5;129;01mand\u001b[39;00m name \u001b[38;5;129;01mnot\u001b[39;00m \u001b[38;5;129;01min\u001b[39;00m \u001b[38;5;28mself\u001b[39m\u001b[38;5;241m.\u001b[39m_accessors\n\u001b[1;32m   6201\u001b[0m     \u001b[38;5;129;01mand\u001b[39;00m \u001b[38;5;28mself\u001b[39m\u001b[38;5;241m.\u001b[39m_info_axis\u001b[38;5;241m.\u001b[39m_can_hold_identifiers_and_holds_name(name)\n\u001b[1;32m   6202\u001b[0m ):\n\u001b[1;32m   6203\u001b[0m     \u001b[38;5;28;01mreturn\u001b[39;00m \u001b[38;5;28mself\u001b[39m[name]\n\u001b[0;32m-> 6204\u001b[0m \u001b[38;5;28;01mreturn\u001b[39;00m \u001b[38;5;28;43mobject\u001b[39;49m\u001b[38;5;241;43m.\u001b[39;49m\u001b[38;5;21;43m__getattribute__\u001b[39;49m\u001b[43m(\u001b[49m\u001b[38;5;28;43mself\u001b[39;49m\u001b[43m,\u001b[49m\u001b[43m \u001b[49m\u001b[43mname\u001b[49m\u001b[43m)\u001b[49m\n",
      "\u001b[0;31mAttributeError\u001b[0m: 'DataFrame' object has no attribute 'reste_index'"
     ]
    }
   ],
   "source": [
    "gene = 'ENSG00000090621'\n",
    "all_splice = get_all_splice(gene)\n",
    "save_data(all_splice)"
   ]
  }
 ],
 "metadata": {
  "kernelspec": {
   "display_name": "Local (python3)",
   "language": "python",
   "name": "local_kernel"
  },
  "language_info": {
   "codemirror_mode": {
    "name": "ipython",
    "version": 3
   },
   "file_extension": ".py",
   "mimetype": "text/x-python",
   "name": "python",
   "nbconvert_exporter": "python",
   "pygments_lexer": "ipython3",
   "version": "3.9.18"
  }
 },
 "nbformat": 4,
 "nbformat_minor": 5
}
